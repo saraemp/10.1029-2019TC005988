{
 "cells": [
  {
   "cell_type": "code",
   "execution_count": 1,
   "metadata": {},
   "outputs": [],
   "source": [
    "import pandas as pd\n",
    "import numpy as np\n",
    "import matplotlib.pyplot as plt\n",
    "import matplotlib.colors as mcolors\n",
    "import scipy\n",
    "from scipy.stats import linregress\n",
    "import matplotlib.pyplot as plt"
   ]
  },
  {
   "cell_type": "code",
   "execution_count": 2,
   "metadata": {},
   "outputs": [
    {
     "data": {
      "text/plain": [
       "array(['7315-18', '7315-35', '7315-41', '8010-25'], dtype=object)"
      ]
     },
     "execution_count": 2,
     "metadata": {},
     "output_type": "execute_result"
    }
   ],
   "source": [
    "ZHe=pd.read_csv(\"/Users/smoron/Documents/1.Projects/Thermochron/Thermochron_figs&tables_0819/Table_4.csv\", sep=',', header=0)\n",
    "\n",
    "samples=np.unique(ZHe.Sample_No)\n",
    "samples\n",
    "#ZHe"
   ]
  },
  {
   "cell_type": "code",
   "execution_count": 3,
   "metadata": {},
   "outputs": [
    {
     "data": {
      "image/png": "[encoded data removed]",
      "text/plain": [
       "<Figure size 425.197x198.425 with 2 Axes>"
      ]
     },
     "metadata": {
      "needs_background": "light"
     },
     "output_type": "display_data"
    }
   ],
   "source": [
    "ms=5\n",
    "lfs=8\n",
    "lbp=0\n",
    "lls=0.0001\n",
    "ls=8\n",
    "a=1\n",
    "c=[(1,0,0,a),(0,0,1,a),(1,.5,0,a), (.7,.7,.7,a)] \n",
    "    \n",
    "fig= plt.subplots(2,1, figsize=(15/2.54, 7/2.54))# This size is in inches\n",
    "\n",
    "plt.subplot(1, 2, 1)\n",
    "for i in np.arange(0,len(samples),1):\n",
    "    plt.errorbar(ZHe.eU_ppm[ZHe.Sample_No==samples[i]],\n",
    "             ZHe.Corrected_Age_Ma[ZHe.Sample_No==samples[i]],\n",
    "             yerr=ZHe.Corrected_Age_Ma_1s[ZHe.Sample_No==samples[i]],\n",
    "             label=str(samples[i])+str('  $R^2$=')+\n",
    "             str(round(scipy.stats.linregress(\n",
    "             ZHe.eU_ppm[ZHe.Sample_No==samples[i]], \n",
    "             ZHe.Corrected_Age_Ma[ZHe.Sample_No==samples[i]])[2]**2,2)),\n",
    "             fmt='o', c=c[i],capsize=5)\n",
    "plt.legend(borderaxespad=lbp, fontsize=lfs, labelspacing=lls, loc='best')\n",
    "\n",
    "plt.tick_params(axis='both', which='major', labelsize=ls)\n",
    "plt.grid()\n",
    "plt.xlabel('eU (ppm)', fontsize=ls+1)\n",
    "plt.ylabel('ZHe Age(Ma)', fontsize=ls+1)\n",
    "\n",
    "plt.subplot(1, 2, 2)\n",
    "for i in np.arange(0,len(samples),1):\n",
    "    plt.errorbar(ZHe.Rs_um[ZHe.Sample_No==samples[i]],\n",
    "             ZHe.Corrected_Age_Ma[ZHe.Sample_No==samples[i]],\n",
    "             yerr=ZHe.Corrected_Age_Ma_1s[ZHe.Sample_No==samples[i]],\n",
    "             label=str('$R^2$=')+\n",
    "             str(round(scipy.stats.linregress(\n",
    "             ZHe.Rs_um[ZHe.Sample_No==samples[i]], \n",
    "             ZHe.Corrected_Age_Ma[ZHe.Sample_No==samples[i]])[2]**2,2)),\n",
    "             fmt='o', c=c[i],capsize=5)\n",
    "plt.legend(borderaxespad=lbp, fontsize=lfs, labelspacing=lls, loc='best')\n",
    "plt.xlim(45,105)\n",
    "plt.tick_params(axis='y', which='major', labelsize=ls, labelleft=False)\n",
    "plt.tick_params(axis='x', which='major', labelsize=ls)\n",
    "\n",
    "plt.grid()\n",
    "plt.xlabel('Rs ($\\mu$m)', fontsize=ls+1)\n",
    "\n",
    "\n",
    "plt.tight_layout(pad=0.0)\n",
    "plt.savefig(\"./ZHeAge_vs_eU_vs_Rs.pdf\", dpi=300)\n"
   ]
  },
  {
   "cell_type": "code",
   "execution_count": null,
   "metadata": {},
   "outputs": [],
   "source": []
  }
 ],
 "metadata": {
  "kernelspec": {
   "display_name": "Python 3",
   "language": "python",
   "name": "python3"
  },
  "language_info": {
   "codemirror_mode": {
    "name": "ipython",
    "version": 3
   },
   "file_extension": ".py",
   "mimetype": "text/x-python",
   "name": "python",
   "nbconvert_exporter": "python",
   "pygments_lexer": "ipython3",
   "version": "3.7.4"
  }
 },
 "nbformat": 4,
 "nbformat_minor": 2
}
