{
 "cells": [
  {
   "cell_type": "markdown",
   "metadata": {},
   "source": [
    "# Need to clean-up this notebook!"
   ]
  },
  {
   "cell_type": "code",
   "execution_count": 6,
   "metadata": {},
   "outputs": [],
   "source": [
    "import pandas as pd\n",
    "import numpy as np\n",
    "import scipy\n",
    "from scipy.stats import linregress\n",
    "import matplotlib.pyplot as plt\n",
    "import matplotlib.colors as mcolors\n",
    "import matplotlib.lines as mlines\n",
    "from matplotlib.lines import Line2D\n",
    "from matplotlib.legend import Legend"
   ]
  },
  {
   "cell_type": "code",
   "execution_count": 7,
   "metadata": {},
   "outputs": [],
   "source": [
    "AHe=pd.read_csv(\"/Users/smoron/Documents/1.Projects/Thermochron/Thermochron_figs&tables_sub/Table_3.csv\",sep=',', header=0)\n",
    "marker=pd.read_csv(\"/Users/smoron/Documents/1.Projects/Thermochron/Thermochron_revisions/Table3_marker_key.csv\",sep=',', header=0)\n",
    "samples=np.unique(AHe.Sample_No)                   \n",
    "marker_samples=np.unique(marker.sampleID)  \n",
    "# print(samples)\n",
    "# print(marker)"
   ]
  },
  {
   "cell_type": "markdown",
   "metadata": {},
   "source": [
    "# Calculating r-square values so I can sort the samples"
   ]
  },
  {
   "cell_type": "code",
   "execution_count": 8,
   "metadata": {},
   "outputs": [
    {
     "name": "stdout",
     "output_type": "stream",
     "text": [
      "[0.03 0.07 0.27 0.01 0.   0.47 0.06 0.01 0.22 0.71 0.59 0.  ]\n",
      "[ 0.18 -0.26 -0.52  0.08  0.03 -0.68  0.25  0.1   0.47 -0.84 -0.77  0.03]\n",
      "['0705-03' '0705-19' '7315-18' '7315-41' '8010-25' 'UW98-17' 'UW98-23'\n",
      " 'UW98-27' 'UW98-28' 'UW98-29' 'UW98-34' 'UW98-41']\n"
     ]
    }
   ],
   "source": [
    "r_square_eU_0=np.zeros(len(samples))\n",
    "for i in np.arange(0,len(samples),1):\n",
    "    r_square_eU_0[i]=round(scipy.stats.linregress(AHe.eU_ppm[AHe.Sample_No==samples[i]], AHe.Corrected_Age_Ma[AHe.Sample_No==samples[i]])[2]**2,2)\n",
    "\n",
    "r_square_Rs_0=np.zeros(len(samples))\n",
    "r_Rs_0=np.zeros(len(samples))\n",
    "for i in np.arange(0,len(samples),1):\n",
    "    r_square_Rs_0[i]=round(scipy.stats.linregress(AHe.Rs_um[AHe.Sample_No==samples[i]], AHe.Corrected_Age_Ma[AHe.Sample_No==samples[i]])[2]**2,2)\n",
    "    r_Rs_0[i]=round(scipy.stats.linregress(AHe.Rs_um[AHe.Sample_No==samples[i]], AHe.Corrected_Age_Ma[AHe.Sample_No==samples[i]])[2],2)\n",
    "\n",
    "print (r_square_Rs_0)\n",
    "print (r_Rs_0)\n",
    "print (samples)"
   ]
  },
  {
   "cell_type": "code",
   "execution_count": 5,
   "metadata": {},
   "outputs": [
    {
     "name": "stdout",
     "output_type": "stream",
     "text": [
      "0705-03 0.01\n",
      "0705-19 0.71\n",
      "7315-18 0.22\n",
      "7315-41 0.39\n",
      "8010-25 0.06\n",
      "UW98-17 0.11\n",
      "UW98-23 0.08\n",
      "UW98-27 0.0\n",
      "UW98-28 0.25\n",
      "UW98-29 0.45\n",
      "UW98-34 0.02\n",
      "UW98-41 0.46\n"
     ]
    }
   ],
   "source": [
    "\n",
    "for i in np.arange(0,len(samples),1):\n",
    "    print(str(samples[i])+' ' +str(r_square_eU_0[i]))"
   ]
  },
  {
   "cell_type": "code",
   "execution_count": 4,
   "metadata": {},
   "outputs": [
    {
     "name": "stdout",
     "output_type": "stream",
     "text": [
      "0705-03 0.03 0.18\n",
      "0705-19 0.07 -0.26\n",
      "7315-18 0.27 -0.52\n",
      "7315-41 0.01 0.08\n",
      "8010-25 0.0 0.03\n",
      "UW98-17 0.47 -0.68\n",
      "UW98-23 0.06 0.25\n",
      "UW98-27 0.01 0.1\n",
      "UW98-28 0.22 0.47\n",
      "UW98-29 0.71 -0.84\n",
      "UW98-34 0.59 -0.77\n",
      "UW98-41 0.0 0.03\n"
     ]
    }
   ],
   "source": [
    "for i in np.arange(0,len(samples),1):\n",
    "    print(str(samples[i])+' ' +str(r_square_Rs_0[i])+ ' '+str(r_Rs_0[i]))"
   ]
  },
  {
   "cell_type": "code",
   "execution_count": null,
   "metadata": {},
   "outputs": [],
   "source": [
    "# r_square_eU_0=np.zeros(len(samples))\n",
    "# for i in np.arange(0,len(samples),1):\n",
    "#     r_square_eU_0[i]=round(scipy.stats.linregress(AHe.eU_ppm[AHe.Sample_No==samples[i]], AHe.Corrected_Age_Ma[AHe.Sample_No==samples[i]])[2]**2,2)\n",
    "\n",
    "# r_square_Rs_0=np.zeros(len(samples))\n",
    "# for i in np.arange(0,len(samples),1):\n",
    "#     r_square_Rs_0[i]=round(scipy.stats.linregress(AHe.Rs_um[AHe.Sample_No==samples[i]], AHe.Corrected_Age_Ma[AHe.Sample_No==samples[i]])[2]**2,2)\n",
    "\n",
    "# # for i in np.arange(0,len(samples),1):\n",
    "# #     print(str(samples[i])+' ' +str(r_square_eU[i]))"
   ]
  },
  {
   "cell_type": "code",
   "execution_count": 9,
   "metadata": {},
   "outputs": [
    {
     "name": "stdout",
     "output_type": "stream",
     "text": [
      "[0.71, 0.46, 0.45, 0.39, 0.25, 0.22, 0.11, 0.08, 0.06, 0.02, 0.01, 0.0]\n"
     ]
    },
    {
     "data": {
      "text/plain": [
       "array([0.71, 0.46, 0.45, 0.39, 0.25, 0.22, 0.11, 0.08, 0.06, 0.02, 0.01,\n",
       "       0.  ])"
      ]
     },
     "execution_count": 9,
     "metadata": {},
     "output_type": "execute_result"
    }
   ],
   "source": [
    "samples_r2=['0705-19', 'UW98-41', 'UW98-29', '7315-41', 'UW98-28', '7315-18', 'UW98-17', 'UW98-23', '8010-25', 'UW98-34', '0705-03', 'UW98-27']\n",
    "sorted(r_square_eU_0, reverse=True)\n",
    "\n",
    "#Calculate r-square with sorted samples to make sure every matches\n",
    "r_square_eU=np.zeros(len(samples_r2))\n",
    "for i in np.arange(0,len(samples_r2),1):\n",
    "    r_square_eU[i]=round(scipy.stats.linregress(AHe.eU_ppm[AHe.Sample_No==samples_r2[i]], AHe.Corrected_Age_Ma[AHe.Sample_No==samples_r2[i]])[2]**2,2)\n",
    "\n",
    "r_square_Rs=np.zeros(len(samples_r2))\n",
    "for i in np.arange(0,len(samples_r2),1):\n",
    "    r_square_Rs[i]=round(scipy.stats.linregress(AHe.Rs_um[AHe.Sample_No==samples_r2[i]], AHe.Corrected_Age_Ma[AHe.Sample_No==samples_r2[i]])[2]**2,2)\n",
    "\n",
    "#Checking it matches\n",
    "print(sorted(r_square_eU_0, reverse=True))\n",
    "r_square_eU"
   ]
  },
  {
   "cell_type": "code",
   "execution_count": 10,
   "metadata": {},
   "outputs": [],
   "source": [
    "#To be improved\n",
    "cmap = plt.get_cmap('nipy_spectral')\n",
    "norm = mcolors.Normalize(vmin=0, vmax=(len(samples_r2))-1)\n",
    "\n",
    "timestep=np.arange(0,len(samples_r2),1)\n",
    "def get_colour(timestep):\n",
    "    return cmap(norm(timestep))\n",
    "c=cmap(norm(timestep))\n",
    "\n",
    "#This is a way to create a color map for each data point, making sure that they are color-coded by sample\n",
    "c0705_19=np.tile(c[0], (len(marker.sampleID[marker.sampleID=='0705-19']), 1))\n",
    "cUW98_41=np.tile(c[1], (len(marker.sampleID[marker.sampleID=='UW98-41']), 1))\n",
    "cUW98_29=np.tile(c[2], (len(marker.sampleID[marker.sampleID=='UW98-29']), 1))\n",
    "c7315_41=np.tile(c[3], (len(marker.sampleID[marker.sampleID=='7315-41']), 1))\n",
    "cUW98_28=np.tile(c[4], (len(marker.sampleID[marker.sampleID=='UW98-28']), 1))\n",
    "c7315_18=np.tile(c[5], (len(marker.sampleID[marker.sampleID=='7315-18']), 1))\n",
    "cUW98_17=np.tile(c[6], (len(marker.sampleID[marker.sampleID=='UW98-17']), 1))\n",
    "cUW98_23=np.tile(c[7], (len(marker.sampleID[marker.sampleID=='UW98-23']), 1))\n",
    "c8010_25=np.tile(c[8], (len(marker.sampleID[marker.sampleID=='8010-25']), 1))\n",
    "cUW98_34=np.tile(c[9], (len(marker.sampleID[marker.sampleID=='UW98-34']), 1))\n",
    "c0705_03=np.tile(c[10], (len(marker.sampleID[marker.sampleID=='0705-03']), 1))\n",
    "cUW98_27=np.tile(c[11], (len(marker.sampleID[marker.sampleID=='UW98-27']), 1))\n",
    "cs=( np.vstack((c0705_19,cUW98_41,cUW98_29,c7315_41, cUW98_28,c7315_18, cUW98_17,\n",
    "               cUW98_23,c8010_25,cUW98_34, c0705_03, cUW98_27 )))\n",
    "#cs"
   ]
  },
  {
   "cell_type": "code",
   "execution_count": 11,
   "metadata": {},
   "outputs": [],
   "source": [
    "legend_elements1_eU=[ mlines.Line2D([], [], marker='o', color=c[0], label=samples_r2[0]+str(' $R^2$=')+str(r_square_eU[0]),markersize=5, linestyle='None')\n",
    "                , mlines.Line2D([], [], marker='o', color=c[1], label=samples_r2[1]+str(' $R^2$=')+str(r_square_eU[1]),markersize=5, linestyle='None')\n",
    "                , mlines.Line2D([], [], marker='o', color=c[2], label=samples_r2[2]+str(' $R^2$=')+str(r_square_eU[2]),markersize=5, linestyle='None')]\n",
    "\n",
    "legend_elements1_Rs=[ mlines.Line2D([], [], marker='o', color=c[0], label=samples_r2[0]+str(' $R^2$=')+str(r_square_Rs[0]),markersize=5, linestyle='None')\n",
    "                , mlines.Line2D([], [], marker='o', color=c[1], label=samples_r2[1]+str(' $R^2$=')+str(r_square_Rs[1]),markersize=5, linestyle='None')\n",
    "                , mlines.Line2D([], [], marker='o', color=c[2], label=samples_r2[2]+str(' $R^2$=')+str(r_square_Rs[2]),markersize=5, linestyle='None')]\n",
    "legend_GM_1=[mlines.Line2D([], [], marker='o', color='k',mfc='w', label='0T',markersize=5, linestyle='None')]\n",
    "\n",
    "legend_elements2_eU=[ mlines.Line2D([], [], marker='o', color=c[3], label=samples_r2[3]+str(' $R^2$=')+str(r_square_eU[3]),markersize=5, linestyle='None')\n",
    "                , mlines.Line2D([], [], marker='o', color=c[4], label=samples_r2[4]+str(' $R^2$=')+str(r_square_eU[4]),markersize=5, linestyle='None')\n",
    "                , mlines.Line2D([], [], marker='o', color=c[5], label=samples_r2[5]+str(' $R^2$=')+str(r_square_eU[5]),markersize=5, linestyle='None')\n",
    "                , mlines.Line2D([], [], marker='o', color=c[6], label=samples_r2[6]+str(' $R^2$=')+str(r_square_eU[6]),markersize=5, linestyle='None')]\n",
    "\n",
    "legend_elements2_Rs=[ mlines.Line2D([], [], marker='o', color=c[3], label=samples_r2[3]+str(' $R^2$=')+str(r_square_Rs[3]),markersize=5, linestyle='None')\n",
    "                , mlines.Line2D([], [], marker='o', color=c[4], label=samples_r2[4]+str(' $R^2$=')+str(r_square_Rs[4]),markersize=5, linestyle='None')\n",
    "                , mlines.Line2D([], [], marker='o', color=c[5], label=samples_r2[5]+str(' $R^2$=')+str(r_square_Rs[5]),markersize=5, linestyle='None')\n",
    "                , mlines.Line2D([], [], marker='o', color=c[6], label=samples_r2[6]+str(' $R^2$=')+str(r_square_Rs[6]),markersize=5, linestyle='None')]\n",
    "\n",
    "legend_GM_2=[ mlines.Line2D([], [], marker='o', color='k', mfc='w', label='0T',markersize=5, linestyle='None')\n",
    "                , mlines.Line2D([], [], marker='s', color='k', mfc='w',label='1T',markersize=5, linestyle='None')\n",
    "                , mlines.Line2D([], [], marker='d', color='k', mfc='w',label='2T',markersize=5, linestyle='None')]\n",
    "\n",
    "legend_elements3_eU=[ mlines.Line2D([], [], marker='o', color=c[7], label=samples_r2[7]+str(' $R^2$=')+str(r_square_eU[7]),markersize=5, linestyle='None')\n",
    "                , mlines.Line2D([], [], marker='o', color=c[8], label=samples_r2[8]+str(' $R^2$=')+str(r_square_eU[8]),markersize=5, linestyle='None')\n",
    "                , mlines.Line2D([], [], marker='o', color=c[9], label=samples_r2[9]+str(' $R^2$=')+str(r_square_eU[9]),markersize=5, linestyle='None')\n",
    "                , mlines.Line2D([], [], marker='o', color=c[10], label=samples_r2[10]+str(' $R^2$=')+str(r_square_eU[10]),markersize=5, linestyle='None')\n",
    "                , mlines.Line2D([], [], marker='o', color=c[11], label=samples_r2[11]+str(' $R^2$=')+str(r_square_eU[11]),markersize=5, linestyle='None')]\n",
    "\n",
    "\n",
    "\n",
    "\n",
    "legend_elements3_Rs=[ mlines.Line2D([], [], marker='o', color=c[7], label=samples_r2[7]+str(' $R^2$=')+str(r_square_Rs[7]),markersize=5, linestyle='None')\n",
    "                , mlines.Line2D([], [], marker='o', color=c[8], label=samples_r2[8]+str(' $R^2$=')+str(r_square_Rs[8]),markersize=5, linestyle='None')\n",
    "                , mlines.Line2D([], [], marker='o', color=c[9], label=samples_r2[9]+str(' $R^2$=')+str(r_square_Rs[9]),markersize=5, linestyle='None')\n",
    "                , mlines.Line2D([], [], marker='o', color=c[10], label=samples_r2[10]+str(' $R^2$=')+str(r_square_Rs[10]),markersize=5, linestyle='None')\n",
    "                , mlines.Line2D([], [], marker='o', color=c[11], label=samples_r2[11]+str(' $R^2$=')+str(r_square_Rs[11]),markersize=5, linestyle='None')]\n",
    "\n",
    "\n",
    "legend_GM_3=[mlines.Line2D([], [], marker='o', color='k', mfc='w',label='0T',markersize=5, linestyle='None')\n",
    "            , mlines.Line2D([], [], marker='s', color='k', mfc='w',label='1T',markersize=5, linestyle='None')]\n",
    "\n"
   ]
  },
  {
   "cell_type": "code",
   "execution_count": 15,
   "metadata": {},
   "outputs": [
    {
     "data": {
      "image/png": "[encoded data removed]",
      "text/plain": [
       "<Figure size 432x316.8 with 6 Axes>"
      ]
     },
     "metadata": {
      "needs_background": "light"
     },
     "output_type": "display_data"
    }
   ],
   "source": [
    "fig, axs = plt.subplots(3,2, figsize=(6, 11/2.5))\n",
    "ms=5\n",
    "lfs=7\n",
    "lbp=0\n",
    "lls=0.00001\n",
    "#lls=1\n",
    "ls=8\n",
    "xlim=(0,120)\n",
    "##########\n",
    "#eU plots#\n",
    "##########\n",
    "ax = axs[0,0]\n",
    "for j in np.arange(0,(np.int(np.argwhere(marker.sampleID=='UW98-29')[-1]))+1,1):\n",
    "        ax.errorbar(AHe.eU_ppm[marker.locator[j]], AHe.Corrected_Age_Ma[marker.locator[j]], \n",
    "            yerr=AHe.Corrected_Age_Ma_1s[marker.locator[j]],\n",
    "            fmt=str(marker.marker[j]),c=cs[j],capsize=5,ms=ms)\n",
    "ax.set_xlim(xlim)\n",
    "ax.set_ylim(210,720)\n",
    "ax.set(ylabel='AHe Age (Ma)')\n",
    "ax.tick_params(axis='both', which='major', labelsize=ls)\n",
    "legend1= ax.legend(handles=legend_elements1_eU, borderaxespad=lbp, fontsize=lfs, labelspacing=lls)\n",
    "ax.add_artist(legend1)\n",
    "legend2 = ax.legend(handles=legend_GM_3, borderaxespad=lbp, fontsize=lfs, labelspacing=lls, loc='lower right')\n",
    "\n",
    "###\n",
    "ax = axs[1,0]\n",
    "for k in np.arange(np.int(np.argwhere(marker.sampleID=='7315-41')[0]),\n",
    "                   np.int(np.argwhere(marker.sampleID=='UW98-17')[-1])+1,1):\n",
    "        ax.errorbar(AHe.eU_ppm[marker.locator[k]], AHe.Corrected_Age_Ma[marker.locator[k]], \n",
    "            yerr=AHe.Corrected_Age_Ma_1s[marker.locator[k]],\n",
    "            fmt=str(marker.marker[k]),c=cs[k],capsize=5,ms=ms)\n",
    "ax.set_xlim(xlim)\n",
    "ax.set_ylim(210,720)\n",
    "ax.set(ylabel='AHe Age (Ma)')\n",
    "ax.tick_params(axis='both', which='major', labelsize=ls)   \n",
    "legend1=ax.legend(handles=legend_elements2_eU, borderaxespad=lbp, fontsize=lfs, labelspacing=lls)\n",
    "ax.add_artist(legend1)\n",
    "legend2 = ax.legend(handles=legend_GM_2, borderaxespad=lbp, fontsize=lfs, labelspacing=lls, loc='lower right')\n",
    "\n",
    "####\n",
    "ax = axs[2,0]\n",
    "for l in np.arange(np.int(np.argwhere(marker.sampleID=='UW98-23')[0]),\n",
    "                   np.int(np.argwhere(marker.sampleID=='UW98-27')[-1])+1,1):\n",
    "        ax.errorbar(AHe.eU_ppm[marker.locator[l]], AHe.Corrected_Age_Ma[marker.locator[l]], \n",
    "            yerr=AHe.Corrected_Age_Ma_1s[marker.locator[l]],\n",
    "            fmt=str(marker.marker[l]),c=cs[l],capsize=5,ms=ms)\n",
    "ax.set_xlim(xlim)\n",
    "ax.set_ylim(210,720)\n",
    "ax.set(ylabel='AHe Age (Ma)', xlabel=\"eU (ppm)\")\n",
    "ax.tick_params(axis='both', which='major', labelsize=ls)\n",
    "legend1=ax.legend(handles=legend_elements3_eU, borderaxespad=lbp, fontsize=lfs, labelspacing=lls)\n",
    "ax.add_artist(legend1)\n",
    "legend2 = ax.legend(handles=legend_GM_2, borderaxespad=lbp, fontsize=lfs, labelspacing=lls, loc='lower right')\n",
    "\n",
    "##########\n",
    "#Rs plots#\n",
    "##########\n",
    "ax = axs[0,1]\n",
    "for j in np.arange(0,(np.int(np.argwhere(marker.sampleID=='UW98-29')[-1]))+1,1):\n",
    "        ax.errorbar(AHe.Rs_um[marker.locator[j]], AHe.Corrected_Age_Ma[marker.locator[j]], \n",
    "            yerr=AHe.Corrected_Age_Ma_1s[marker.locator[j]],\n",
    "            fmt=str(marker.marker[j]),c=cs[j],capsize=5,ms=ms)\n",
    "ax.set_xlim(40,125)\n",
    "ax.set_ylim(210,720)\n",
    "ax.tick_params(axis='both', which='major', labelsize=ls)\n",
    "legend1= ax.legend(handles=legend_elements1_Rs, borderaxespad=lbp, fontsize=lfs, labelspacing=lls)\n",
    "# ax.add_artist(legend1)\n",
    "# legend2 = ax.legend(handles=legend_GM_3, borderaxespad=lbp, fontsize=lfs, labelspacing=lls, loc='lower right')\n",
    "\n",
    "###\n",
    "ax = axs[1,1]\n",
    "for k in np.arange(np.int(np.argwhere(marker.sampleID=='7315-41')[0]),\n",
    "                   np.int(np.argwhere(marker.sampleID=='UW98-17')[-1])+1,1):\n",
    "        ax.errorbar(AHe.Rs_um[marker.locator[k]], AHe.Corrected_Age_Ma[marker.locator[k]], \n",
    "            yerr=AHe.Corrected_Age_Ma_1s[marker.locator[k]],\n",
    "            fmt=str(marker.marker[k]),c=cs[k],capsize=5,ms=ms)\n",
    "ax.set_xlim(40,125)\n",
    "ax.set_ylim(210,720)\n",
    "ax.tick_params(axis='both', which='major', labelsize=ls)   \n",
    "legend1=ax.legend(handles=legend_elements2_Rs, borderaxespad=lbp, fontsize=lfs, labelspacing=lls)\n",
    "# ax.add_artist(legend1)\n",
    "# legend2 = ax.legend(handles=legend_GM_2, borderaxespad=lbp, fontsize=lfs, labelspacing=lls, loc='upper left')\n",
    "\n",
    "####\n",
    "ax = axs[2,1]\n",
    "for l in np.arange(np.int(np.argwhere(marker.sampleID=='UW98-23')[0]),\n",
    "                   np.int(np.argwhere(marker.sampleID=='UW98-27')[-1])+1,1):\n",
    "        ax.errorbar(AHe.Rs_um[marker.locator[l]], AHe.Corrected_Age_Ma[marker.locator[l]], \n",
    "            yerr=AHe.Corrected_Age_Ma_1s[marker.locator[l]],\n",
    "            fmt=str(marker.marker[l]),c=cs[l],capsize=5,ms=ms)\n",
    "ax.set_xlim(40,125)\n",
    "ax.set_ylim(210,720)\n",
    "ax.set(xlabel=\"Rs (ppm)\")\n",
    "ax.tick_params(axis='both', which='major', labelsize=ls)\n",
    "legend1=ax.legend(handles=legend_elements3_Rs, borderaxespad=lbp, fontsize=lfs, labelspacing=lls)\n",
    "# ax.add_artist(legend1)\n",
    "# legend2 = ax.legend(handles=legend_GM_3, borderaxespad=lbp, fontsize=lfs, labelspacing=lls, loc='lower right')\n",
    "plt.tight_layout(pad=0.10)\n",
    "\n",
    "fig.savefig(\"AHe_age_vs_eU_vsRs_groupedbysample_nipy_spectral_all.pdf\", dpi=300)\n"
   ]
  },
  {
   "cell_type": "code",
   "execution_count": null,
   "metadata": {},
   "outputs": [],
   "source": [
    "#Modify symbol's legend, that's the old one\n",
    "#Change le"
   ]
  },
  {
   "cell_type": "code",
   "execution_count": null,
   "metadata": {},
   "outputs": [],
   "source": [
    "#marker.sampleID 0705-19\n",
    "\n",
    "AHe.eU_ppm[AHe.Sample_No=='0705-19']\n",
    "np.arange(0,(np.int(np.argwhere(marker.sampleID=='0705-19')[-1])),1)\n",
    "AHe.eU_ppm[marker.locator[0]]"
   ]
  },
  {
   "cell_type": "code",
   "execution_count": null,
   "metadata": {},
   "outputs": [],
   "source": [
    "#It seems that there is something wrong with the sample plotting\n",
    "fig, axs = plt.subplots(1, figsize=(6, 11/2.5))\n",
    "\n",
    "j=0\n",
    "for j in np.arange(0,(np.int(np.argwhere(markerk.sampleID=='0705-19')[-1])+1),1):\n",
    "        #print(j)\n",
    "        print(markerk.locator[j])\n",
    "        plt.errorbar(AHe.eU_ppm[markerk.locator[j]], AHe.Corrected_Age_Ma[markerk.locator[j]], \n",
    "            yerr=AHe.Corrected_Age_Ma_1s[markerk.locator[j]],\n",
    "            fmt=str(markerk.marker[j]),c=cs[j],capsize=5,ms=ms)\n",
    "plt.errorbar(AHe.eU_ppm[AHe.Sample_No=='0705-19'], AHe.Corrected_Age_Ma[AHe.Sample_No=='0705-19'], \n",
    "            yerr=AHe.Corrected_Age_Ma_1s[AHe.Sample_No=='0705-19'],\n",
    "            fmt='o',c=(1,0,0,.5),capsize=5,ms=ms)\n"
   ]
  },
  {
   "cell_type": "code",
   "execution_count": null,
   "metadata": {},
   "outputs": [],
   "source": [
    "ax = axs[1,0]\n",
    "for k in np.arange(np.int(np.argwhere(marker.sampleID=='7315-41')[0]),\n",
    "                   np.int(np.argwhere(marker.sampleID=='UW98-17')[-1])+1,1):\n",
    "        print (marker.locator[k])\n",
    "        ax.errorbar(AHe.eU_ppm[marker.locator[k]], AHe.Corrected_Age_Ma[marker.locator[k]], \n",
    "            yerr=AHe.Corrected_Age_Ma_1s[marker.locator[k]],\n",
    "            fmt=str(marker.marker[k]),c=cs[k],capsize=5,ms=ms)\n",
    "ax.set_xlim(xlim)\n",
    "ax.set_ylim(210,720)\n",
    "ax.set(ylabel='AHe Age (Ma)')\n",
    "ax.tick_params(axis='both', which='major', labelsize=ls)   \n",
    "legend1=ax.legend(handles=legend_elements2_eU, borderaxespad=lbp, fontsize=lfs, labelspacing=lls)\n",
    "ax.add_artist(legend1)\n",
    "legend2 = ax.legend(handles=legend_GM_2, borderaxespad=lbp, fontsize=lfs, labelspacing=lls, loc='lower right')\n"
   ]
  },
  {
   "cell_type": "code",
   "execution_count": null,
   "metadata": {},
   "outputs": [],
   "source": [
    "\n",
    "for k in np.arange(np.int(np.argwhere(marker.sampleID=='7315-41')[0]),\n",
    "                   np.int(np.argwhere(marker.sampleID=='UW98-17')[-1])+1,1):\n",
    "        print(marker.locator[k])\n",
    "        plt.errorbar(AHe.eU_ppm[marker.locator[k]], AHe.Corrected_Age_Ma[marker.locator[k]], \n",
    "            yerr=AHe.Corrected_Age_Ma_1s[marker.locator[k]],\n",
    "            fmt=str(marker.marker[k]),c=cs[k],capsize=5,ms=ms)\n",
    "ax.set_xlim(xlim)\n",
    "ax.set_ylim(210,720)\n",
    "ax.set(ylabel='AHe Age (Ma)')\n",
    "ax.tick_params(axis='both', which='major', labelsize=ls)   \n",
    "legend1=ax.legend(handles=legend_elements2_eU, borderaxespad=lbp, fontsize=lfs, labelspacing=lls)\n",
    "ax.add_artist(legend1)\n",
    "legend2 = ax.legend(handles=legend_GM_2, borderaxespad=lbp, fontsize=lfs, labelspacing=lls, loc='lower right')\n"
   ]
  },
  {
   "cell_type": "code",
   "execution_count": null,
   "metadata": {},
   "outputs": [],
   "source": [
    "cmap = plt.get_cmap('nipy_spectral')\n",
    "norm = mcolors.Normalize(vmin=0, vmax=(len(samples_r2))-1)\n",
    "\n",
    "timestep=np.arange(0,len(samples_r2),1)\n",
    "def get_colour(timestep):\n",
    "    return cmap(norm(timestep))\n",
    "c=cmap(norm(timestep))\n",
    "\n",
    "# cc=np.zeros(len(marker.marker))\n",
    "# for j in np.arange(0,4,1):\n",
    "#     cc[j]=c[0]\n",
    "type(c[0][0])\n",
    "panel1c=[[c[1]]*5]\n",
    "#panel1c=(c[1]*3)#This just multiplies each of the elements of the array by 3\n",
    "\n",
    "# type(panel1c)\n",
    "# panel1c\n",
    "# a=c[0]\n",
    "# b=c[0]\n",
    "# print( np.vstack((a,b)))#the first one doesn't have comas inbetween\n",
    "# print(np.concatenate((c[0],c[0])))#the second one is just a long 'list'\n",
    "# #print(panel1c)\n",
    "print(c)\n",
    "# c2=[c[0],c[0]]\n",
    "# print(c2)\n",
    "# c2[1]"
   ]
  },
  {
   "cell_type": "code",
   "execution_count": null,
   "metadata": {},
   "outputs": [],
   "source": [
    "samples_r2"
   ]
  },
  {
   "cell_type": "code",
   "execution_count": null,
   "metadata": {},
   "outputs": [],
   "source": [
    "np.argwhere(marker.sampleID==samples_r2[0])[-1]"
   ]
  },
  {
   "cell_type": "code",
   "execution_count": null,
   "metadata": {},
   "outputs": [],
   "source": [
    "for i in np.arange(0,len(samples_r2),1):\n",
    "     plt.plot(AHe.eU_ppm[AHe.Sample_No==samples_r2[i]], \n",
    "              AHe.Corrected_Age_Ma[AHe.Sample_No==samples_r2[i]],\n",
    "              'o', c=c[i], label=samples_r2[i])\n",
    "plt.legend()"
   ]
  },
  {
   "cell_type": "code",
   "execution_count": null,
   "metadata": {},
   "outputs": [],
   "source": [
    "r_square_eU=np.zeros(len(samples_r2))\n",
    "for i in np.arange(0,len(samples_r2),1):\n",
    "    r_square_eU[i]=round(scipy.stats.linregress(AHe.eU_ppm[AHe.Sample_No==samples_r2[i]], AHe.Corrected_Age_Ma[AHe.Sample_No==samples_r2[i]])[2]**2,2)\n",
    "\n",
    "r_square_Rs=np.zeros(len(samples_r2))\n",
    "for i in np.arange(0,len(samples_r2),1):\n",
    "    r_square_Rs[i]=round(scipy.stats.linregress(AHe.Rs_um[AHe.Sample_No==samples_r2[i]], AHe.Corrected_Age_Ma[AHe.Sample_No==samples_r2[i]])[2]**2,2)\n"
   ]
  },
  {
   "cell_type": "markdown",
   "metadata": {},
   "source": [
    "# Define legend elements so that legends don't have error bars"
   ]
  },
  {
   "cell_type": "code",
   "execution_count": null,
   "metadata": {},
   "outputs": [],
   "source": [
    "# list inside an array and then flatten in, and then I guess I convert 0T to 'o', 1T to's' and 2T to 'd'\n",
    "# import numpy as np\n",
    "# a = np.array([2, 2, 2, 0, 2, 0, 2])\n",
    "# a_v2=np.where(array1==0, 1, array1)\n",
    "# print(a)\n",
    "# a_v2\n",
    "\n",
    "# C_v2=np.where(C=='0T', 'o', C)\n",
    "# C_v2\n",
    "D=C.flatten()\n",
    "b=np.asarray(D[1])\n",
    "#for i in C:\n",
    "#print(len(D))\n",
    "# for i in np.arange(0,len(D),1):\n",
    "#     if np.asarray(D[i]=='0T'):\n",
    "#         np.where(np.asarray(D[i])=='0T', 'o', np.asarray(D[i]))\n",
    "\n",
    "np.where(np.asarray(D[1]=='0T'))"
   ]
  },
  {
   "cell_type": "code",
   "execution_count": null,
   "metadata": {},
   "outputs": [],
   "source": [
    "#How do I create a and array with lists inside?\n",
    "B=[[]]*len(samples_r2)\n",
    "# C=np.array([[]]*len(samples_r2))\n",
    "# type(C)\n",
    "# print (C)\n",
    "# D=[[],[],[]]\n",
    "   \n",
    "for i in np.arange(0,len(samples_r2),1):\n",
    "    B[i]=(AHe.Grain_morphology[AHe.Sample_No==samples_r2[i]])\n",
    "B[1]\n",
    "C= np.asarray(B)\n",
    "\n",
    "samplegm0=np.zeros(len(D[0]))\n",
    "samplegm1=np.zeros(len(D[1]))\n",
    "samplegm2=np.zeros(len(D[2]))\n",
    "samplegm3=np.zeros(len(D[3]))\n",
    "samplegm4=np.zeros(len(D[4]))\n",
    "samplegm5=np.zeros(len(D[5]))\n",
    "samplegm6=np.zeros(len(D[6]))\n",
    "samplegm7=np.zeros(len(D[7]))\n",
    "samplegm8=np.zeros(len(D[8]))\n",
    "samplegm9=np.zeros(len(D[9]))\n",
    "samplegm10=np.zeros(len(D[10]))\n",
    "samplegm11=np.zeros(len(D[11]))\n",
    "\n",
    "\n",
    "\n"
   ]
  },
  {
   "cell_type": "code",
   "execution_count": null,
   "metadata": {},
   "outputs": [],
   "source": [
    "print(len(AHe.Analysis_No))\n",
    "B"
   ]
  },
  {
   "cell_type": "code",
   "execution_count": null,
   "metadata": {},
   "outputs": [],
   "source": [
    "a=np.zeros(len(D))\n",
    "for i in np.arange(0,len(D),1):\n",
    "       a[i]=len(D[i])\n",
    "        \n",
    "for i in np.arange(0,len(D),1):\n",
    "       'str(samplegm)'+str(i)=np.zeros(a)"
   ]
  },
  {
   "cell_type": "code",
   "execution_count": null,
   "metadata": {},
   "outputs": [],
   "source": [
    "str(marker.marker[i])\n",
    "\n",
    "marker.marker[marker.sampleID==samples_r2[1]]\n"
   ]
  },
  {
   "cell_type": "markdown",
   "metadata": {},
   "source": [
    "# SAVE THIS"
   ]
  },
  {
   "cell_type": "code",
   "execution_count": null,
   "metadata": {},
   "outputs": [],
   "source": [
    "#SAVE THIS BECAUSE THIS IS HOW I CREATED THE ORDER FOR THE SYMBOLS\n",
    "#trying to create an array so that I can create an array with the type of grain morphology \n",
    "#so I don't have to do it manually\n",
    "#the problem is that each sample has a different number of grains\n",
    "\n",
    "#This works but it is a list of lists and it is storying the index number as well\n",
    "# B=[[]]*len(samples_r2)\n",
    "# for i in np.arange(0,len(samples_r2),1):\n",
    "#     B[i]=(AHe.Grain_morphology[AHe.Sample_No==samples_r2[i]])"
   ]
  },
  {
   "cell_type": "code",
   "execution_count": null,
   "metadata": {},
   "outputs": [],
   "source": [
    "marker"
   ]
  },
  {
   "cell_type": "code",
   "execution_count": null,
   "metadata": {},
   "outputs": [],
   "source": [
    "fig, axs = plt.subplots(3,2, figsize=(7.5, 11/2.5))\n",
    "ms=5\n",
    "lfs=7\n",
    "lbp=0\n",
    "lls=0.00001\n",
    "##########\n",
    "#eU plots#\n",
    "##########\n",
    "ax = axs[0,0]    \n",
    "for i in np.arange(0,4,1):\n",
    "    ax.errorbar(AHe.eU_ppm[AHe.Sample_No==samples_r2[i]], AHe.Corrected_Age_Ma[AHe.Sample_No==samples_r2[i]], \n",
    "                yerr=AHe.Corrected_Age_Ma_1s[AHe.Sample_No==samples_r2[i]], fmt='o', capsize=5,ms=ms,c=c[i])\n",
    "    ax.set_xlim(0,65)\n",
    "    ax.set_ylim(210,720)\n",
    "    ax.set(ylabel='AHe Age (Ma)')\n",
    "    ax.tick_params(axis='both', which='major', labelsize=7)\n",
    "legend1= ax.legend(handles=legend_elements1_eU, borderaxespad=lbp, fontsize=lfs, labelspacing=lls)\n",
    "ax.add_artist(legend1)\n",
    "legend2 = ax.legend(handles=legend_GM_1, borderaxespad=lbp, fontsize=lfs, labelspacing=lls, loc='lower right')\n",
    "#\n",
    "ax = axs[1,0]\n",
    "#UW98-28- samples_r2[3]\n",
    "ax.errorbar(AHe.eU_ppm[AHe.Sample_No==samples_r2[3]], AHe.Corrected_Age_Ma[AHe.Sample_No==samples_r2[3]], \n",
    "            yerr=AHe.Corrected_Age_Ma_1s[AHe.Sample_No==samples_r2[3]], fmt='o', capsize=5, ms=ms, c=c[3]) \n",
    "#7315-18- samples_r2[4]\n",
    "marker_7315_18=['s','o','d','o']\n",
    "\n",
    "for i in np.arange(0,len(marker_7315_18),1):\n",
    "    ax.errorbar(AHe.eU_ppm[i+5], AHe.Corrected_Age_Ma[i+5], yerr=AHe.Corrected_Age_Ma_1s[i+5], fmt='o', capsize=5, ms=ms, marker=marker_7315_18[i],c=c[4])\n",
    "\n",
    "#UW98-17- samples_r2[5]\n",
    "UW98_17_0i=[22,24,25,26]\n",
    "for i in UW98_17_0i:\n",
    "    ax.errorbar(AHe.eU_ppm[i], AHe.Corrected_Age_Ma[i], yerr=AHe.Corrected_Age_Ma_1s[i], fmt='o', capsize=5, ms=ms, c=c[5])\n",
    "ax.errorbar(AHe.eU_ppm[23], AHe.Corrected_Age_Ma[23], yerr=AHe.Corrected_Age_Ma_1s[23], fmt='o', capsize=5, ms=ms, c=c[5],marker='d')\n",
    "\n",
    "ax.set_xlim(0,65)\n",
    "ax.set_ylim(210,720)\n",
    "ax.set(ylabel='AHe Age (Ma)')\n",
    "ax.tick_params(axis='both', which='major', labelsize=7)\n",
    "legend1=ax.legend(handles=legend_elements2_eU, borderaxespad=lbp, fontsize=lfs, labelspacing=lls)\n",
    "ax.add_artist(legend1)\n",
    "legend2 = ax.legend(handles=legend_GM_2, borderaxespad=lbp, fontsize=lfs, labelspacing=lls, loc='lower right')\n",
    "####\n",
    "ax = axs[2,0]\n",
    "#8010-25- samples_r2[6]\n",
    "ax.errorbar(AHe.eU_ppm[0], AHe.Corrected_Age_Ma[0], yerr=AHe.Corrected_Age_Ma_1s[0], fmt='o', capsize=5, ms=ms, c=c[6])\n",
    "ax.errorbar(AHe.eU_ppm[2], AHe.Corrected_Age_Ma[2], yerr=AHe.Corrected_Age_Ma_1s[2], fmt='o', capsize=5, ms=ms,c=c[6])\n",
    "s8010_25_1i=[1,3,4]\n",
    "for i in s8010_25_1i:\n",
    "    ax.errorbar(AHe.eU_ppm[i], AHe.Corrected_Age_Ma[i], yerr=AHe.Corrected_Age_Ma_1s[i], fmt='o', capsize=5, ms=ms, marker='s', c=c[6])\n",
    "\n",
    "#UW98-34- samples_r2[7]\n",
    "ax.errorbar(AHe.eU_ppm[32], AHe.Corrected_Age_Ma[32], yerr=AHe.Corrected_Age_Ma_1s[32], fmt='o', capsize=5, ms=ms,c=c[7])\n",
    "ax.errorbar(AHe.eU_ppm[33], AHe.Corrected_Age_Ma[33], yerr=AHe.Corrected_Age_Ma_1s[33], fmt='o', capsize=5, ms=ms,c=c[7])\n",
    "ax.errorbar(AHe.eU_ppm[34], AHe.Corrected_Age_Ma[34], yerr=AHe.Corrected_Age_Ma_1s[34], fmt='o', capsize=5, ms=ms,marker='s', c=c[7])    \n",
    "#0705-03- samples_r2[8]\n",
    "ax.errorbar(AHe.eU_ppm[14], AHe.Corrected_Age_Ma[14], yerr=AHe.Corrected_Age_Ma_1s[14], fmt='o', capsize=5, ms=ms,c=c[8])\n",
    "ax.errorbar(AHe.eU_ppm[15], AHe.Corrected_Age_Ma[15], yerr=AHe.Corrected_Age_Ma_1s[15], fmt='o', capsize=5, ms=ms,c=c[8])\n",
    "ax.errorbar(AHe.eU_ppm[16], AHe.Corrected_Age_Ma[16], yerr=AHe.Corrected_Age_Ma_1s[16], fmt='o', capsize=5, ms=4, marker='s',c=c[8])\n",
    "\n",
    "ax.set_xlim(0,65)\n",
    "ax.set_ylim(210,720)\n",
    "ax.set(xlabel='eU (ppm)', ylabel='AHe Age (Ma)')\n",
    "\n",
    "ax.tick_params(axis='both', which='major', labelsize=7)\n",
    "legend1=ax.legend(handles=legend_elements3_eU, borderaxespad=lbp, fontsize=lfs, labelspacing=lls)\n",
    "ax.add_artist(legend1)\n",
    "legend2 = ax.legend(handles=legend_GM_3, borderaxespad=lbp, fontsize=lfs, labelspacing=lls, loc='upper right')\n",
    "\n",
    "##########\n",
    "#Rs plots#\n",
    "##########\n",
    "ax = axs[0,1]\n",
    "for i in np.arange(0,3,1):\n",
    "    ax.errorbar(AHe.Rs_um[AHe.Sample_No==samples_r2[i]], AHe.Corrected_Age_Ma[AHe.Sample_No==samples_r2[i]], \n",
    "                yerr=AHe.Corrected_Age_Ma_1s[AHe.Sample_No==samples_r2[i]], fmt='o', capsize=5, ms=ms,c=c[i])\n",
    "    ax.set_xlim(40,125)\n",
    "    ax.set_ylim(210,720)\n",
    "    ax.tick_params(axis='both', which='major', labelsize=7)\n",
    "legend1=ax.legend(handles=legend_elements1_Rs, borderaxespad=lbp, fontsize=lfs, labelspacing=lls, )\n",
    "ax.add_artist(legend1)\n",
    "legend2 = ax.legend(handles=legend_GM_1, borderaxespad=lbp, fontsize=lfs, labelspacing=lls, loc='lower right')\n",
    "    \n",
    "\n",
    "ax = axs[1,1]\n",
    "#UW98-28- samples_r2[3]\n",
    "ax.errorbar(AHe.Rs_um[AHe.Sample_No==samples_r2[3]], AHe.Corrected_Age_Ma[AHe.Sample_No==samples_r2[3]], \n",
    "            yerr=AHe.Corrected_Age_Ma_1s[AHe.Sample_No==samples_r2[3]], fmt='o', capsize=5, ms=ms, c=c[3])\n",
    "#7315-18- samples_r2[4]\n",
    "ax.errorbar(AHe.Rs_um[6], AHe.Corrected_Age_Ma[6], yerr=AHe.Corrected_Age_Ma_1s[6], fmt='o', capsize=5, ms=ms,c=c[4])\n",
    "ax.errorbar(AHe.Rs_um[8], AHe.Corrected_Age_Ma[8], yerr=AHe.Corrected_Age_Ma_1s[8], fmt='o', capsize=5, ms=ms,c=c[4])\n",
    "ax.errorbar(AHe.Rs_um[5], AHe.Corrected_Age_Ma[5], yerr=AHe.Corrected_Age_Ma_1s[5], fmt='o', capsize=5, ms=4, marker='s',c=c[4])\n",
    "ax.errorbar(AHe.Rs_um[7], AHe.Corrected_Age_Ma[7], yerr=AHe.Corrected_Age_Ma_1s[7], fmt='o', capsize=5, ms=4, marker='d',c=c[4])\n",
    "\n",
    "#UW98-17- samples_r2[5]\n",
    "UW98_17_0i=[22,24,25,26]\n",
    "for i in UW98_17_0i:\n",
    "    ax.errorbar(AHe.Rs_um[i], AHe.Corrected_Age_Ma[i], yerr=AHe.Corrected_Age_Ma_1s[i], fmt='o', capsize=5, ms=ms, c=c[5])\n",
    "ax.errorbar(AHe.Rs_um[23], AHe.Corrected_Age_Ma[23], yerr=AHe.Corrected_Age_Ma_1s[23], fmt='o', capsize=5, ms=ms, c=c[5],marker='d')\n",
    "ax.set_xlim(40,125)\n",
    "ax.set_ylim(210,720)\n",
    "ax.tick_params(axis='both', which='major', labelsize=7)\n",
    "legend1=ax.legend(handles=legend_elements2_Rs, borderaxespad=lbp, fontsize=lfs, labelspacing=lls)\n",
    "ax.add_artist(legend1)\n",
    "legend2 = ax.legend(handles=legend_GM_2, borderaxespad=lbp, fontsize=lfs, labelspacing=lls, loc='lower left')\n",
    "\n",
    "ax = axs[2,1]\n",
    "#8010-25- samples_r2[6]\n",
    "ax.errorbar(AHe.Rs_um[0], AHe.Corrected_Age_Ma[0], yerr=AHe.Corrected_Age_Ma_1s[0], fmt='o', capsize=5, ms=ms,c=c[6])\n",
    "ax.errorbar(AHe.Rs_um[2], AHe.Corrected_Age_Ma[2], yerr=AHe.Corrected_Age_Ma_1s[2], fmt='o', capsize=5, ms=ms,c=c[6])\n",
    "\n",
    "s8010_25_1i=[1,3,4]\n",
    "for i in s8010_25_1i:\n",
    "    ax.errorbar(AHe.Rs_um[i], AHe.Corrected_Age_Ma[i], yerr=AHe.Corrected_Age_Ma_1s[i], fmt='o', capsize=5, ms=ms, marker='s', c=c[6])\n",
    "\n",
    "#UW98-34- samples_r2[7]\n",
    "ax.errorbar(AHe.Rs_um[32], AHe.Corrected_Age_Ma[32], yerr=AHe.Corrected_Age_Ma_1s[32], fmt='o', capsize=5, ms=ms,c=c[7])\n",
    "ax.errorbar(AHe.Rs_um[33], AHe.Corrected_Age_Ma[33], yerr=AHe.Corrected_Age_Ma_1s[33], fmt='o', capsize=5, ms=ms,c=c[7])\n",
    "ax.errorbar(AHe.Rs_um[34], AHe.Corrected_Age_Ma[34], yerr=AHe.Corrected_Age_Ma_1s[34], fmt='o', capsize=5, ms=ms,marker='s', c=c[7])    \n",
    "#0705-03- samples_r2[8]\n",
    "ax.errorbar(AHe.Rs_um[14], AHe.Corrected_Age_Ma[14], yerr=AHe.Corrected_Age_Ma_1s[14], fmt='o', capsize=5, ms=ms, c=c[8])\n",
    "ax.errorbar(AHe.Rs_um[15], AHe.Corrected_Age_Ma[15], yerr=AHe.Corrected_Age_Ma_1s[15], fmt='o', capsize=5, ms=ms,c=c[8])\n",
    "ax.errorbar(AHe.Rs_um[16], AHe.Corrected_Age_Ma[16], yerr=AHe.Corrected_Age_Ma_1s[16], fmt='o', capsize=5, ms=4, marker='s',c=c[8])\n",
    "\n",
    "ax.set_xlim(40,125)\n",
    "ax.set_ylim(210,720)\n",
    "\n",
    "ax.set(xlabel='Rs ($\\mu$m)')\n",
    "ax.tick_params(axis='both', which='major', labelsize=7)\n",
    "legend1=ax.legend(handles=legend_elements3_Rs, borderaxespad=lbp, fontsize=lfs, labelspacing=lls)\n",
    "ax.add_artist(legend1)\n",
    "legend2 = ax.legend(handles=legend_GM_3, borderaxespad=lbp, fontsize=lfs, labelspacing=lls, loc='lower right')\n",
    "\n",
    "plt.tight_layout(pad=0.10)\n",
    "#fig.savefig(\"AHe_age_vs_eU_vsRs_grouped_nobars_nipy_spectral_all.pdf\", dpi=300)\n"
   ]
  },
  {
   "cell_type": "code",
   "execution_count": null,
   "metadata": {},
   "outputs": [],
   "source": []
  }
 ],
 "metadata": {
  "kernelspec": {
   "display_name": "Python 3",
   "language": "python",
   "name": "python3"
  },
  "language_info": {
   "codemirror_mode": {
    "name": "ipython",
    "version": 3
   },
   "file_extension": ".py",
   "mimetype": "text/x-python",
   "name": "python",
   "nbconvert_exporter": "python",
   "pygments_lexer": "ipython3",
   "version": "3.7.4"
  }
 },
 "nbformat": 4,
 "nbformat_minor": 2
}
